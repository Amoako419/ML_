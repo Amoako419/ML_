{
  "cells": [
    {
      "cell_type": "markdown",
      "metadata": {
        "colab_type": "text",
        "id": "view-in-github"
      },
      "source": [
        "<a href=\"https://colab.research.google.com/github/Amoako419/Learning_ML/blob/main/Titanic_dataset(outliers).ipynb\" target=\"_parent\"><img src=\"https://colab.research.google.com/assets/colab-badge.svg\" alt=\"Open In Colab\"/></a>"
      ]
    },
    {
      "cell_type": "code",
      "execution_count": 1,
      "metadata": {
        "colab": {
          "base_uri": "https://localhost:8080/"
        },
        "id": "2Rc0-5Nn-nSL",
        "outputId": "bc596d32-2409-46e1-dd07-2e59c1707112"
      },
      "outputs": [
        {
          "ename": "OSError",
          "evalue": "[Errno 28] No space left on device: '/Users/amoakoheskey/Library/Caches/seaborn'",
          "output_type": "error",
          "traceback": [
            "\u001b[0;31m---------------------------------------------------------------------------\u001b[0m",
            "\u001b[0;31mOSError\u001b[0m                                   Traceback (most recent call last)",
            "Cell \u001b[0;32mIn[1], line 7\u001b[0m\n\u001b[1;32m      4\u001b[0m \u001b[38;5;28;01mimport\u001b[39;00m \u001b[38;5;21;01mseaborn\u001b[39;00m \u001b[38;5;28;01mas\u001b[39;00m \u001b[38;5;21;01msns\u001b[39;00m\n\u001b[1;32m      6\u001b[0m \u001b[38;5;66;03m# Load the Titanic Dataset\u001b[39;00m\n\u001b[0;32m----> 7\u001b[0m titanic_df \u001b[38;5;241m=\u001b[39m sns\u001b[38;5;241m.\u001b[39mload_dataset(\u001b[38;5;124m'\u001b[39m\u001b[38;5;124mtitanic\u001b[39m\u001b[38;5;124m'\u001b[39m)\n\u001b[1;32m      9\u001b[0m \u001b[38;5;66;03m# Ensure that 'age' and 'fare' columns do not have null values\u001b[39;00m\n\u001b[1;32m     10\u001b[0m titanic_df \u001b[38;5;241m=\u001b[39m titanic_df\u001b[38;5;241m.\u001b[39mdropna(subset\u001b[38;5;241m=\u001b[39m[\u001b[38;5;124m'\u001b[39m\u001b[38;5;124mage\u001b[39m\u001b[38;5;124m'\u001b[39m, \u001b[38;5;124m'\u001b[39m\u001b[38;5;124mfare\u001b[39m\u001b[38;5;124m'\u001b[39m])\n",
            "File \u001b[0;32m/opt/anaconda3/lib/python3.11/site-packages/seaborn/utils.py:584\u001b[0m, in \u001b[0;36mload_dataset\u001b[0;34m(name, cache, data_home, **kws)\u001b[0m\n\u001b[1;32m    581\u001b[0m url \u001b[38;5;241m=\u001b[39m \u001b[38;5;124mf\u001b[39m\u001b[38;5;124m\"\u001b[39m\u001b[38;5;124mhttps://raw.githubusercontent.com/mwaskom/seaborn-data/master/\u001b[39m\u001b[38;5;132;01m{\u001b[39;00mname\u001b[38;5;132;01m}\u001b[39;00m\u001b[38;5;124m.csv\u001b[39m\u001b[38;5;124m\"\u001b[39m\n\u001b[1;32m    583\u001b[0m \u001b[38;5;28;01mif\u001b[39;00m cache:\n\u001b[0;32m--> 584\u001b[0m     cache_path \u001b[38;5;241m=\u001b[39m os\u001b[38;5;241m.\u001b[39mpath\u001b[38;5;241m.\u001b[39mjoin(get_data_home(data_home), os\u001b[38;5;241m.\u001b[39mpath\u001b[38;5;241m.\u001b[39mbasename(url))\n\u001b[1;32m    585\u001b[0m     \u001b[38;5;28;01mif\u001b[39;00m \u001b[38;5;129;01mnot\u001b[39;00m os\u001b[38;5;241m.\u001b[39mpath\u001b[38;5;241m.\u001b[39mexists(cache_path):\n\u001b[1;32m    586\u001b[0m         \u001b[38;5;28;01mif\u001b[39;00m name \u001b[38;5;129;01mnot\u001b[39;00m \u001b[38;5;129;01min\u001b[39;00m get_dataset_names():\n",
            "File \u001b[0;32m/opt/anaconda3/lib/python3.11/site-packages/seaborn/utils.py:534\u001b[0m, in \u001b[0;36mget_data_home\u001b[0;34m(data_home)\u001b[0m\n\u001b[1;32m    532\u001b[0m data_home \u001b[38;5;241m=\u001b[39m os\u001b[38;5;241m.\u001b[39mpath\u001b[38;5;241m.\u001b[39mexpanduser(data_home)\n\u001b[1;32m    533\u001b[0m \u001b[38;5;28;01mif\u001b[39;00m \u001b[38;5;129;01mnot\u001b[39;00m os\u001b[38;5;241m.\u001b[39mpath\u001b[38;5;241m.\u001b[39mexists(data_home):\n\u001b[0;32m--> 534\u001b[0m     os\u001b[38;5;241m.\u001b[39mmakedirs(data_home)\n\u001b[1;32m    535\u001b[0m \u001b[38;5;28;01mreturn\u001b[39;00m data_home\n",
            "File \u001b[0;32m<frozen os>:225\u001b[0m, in \u001b[0;36mmakedirs\u001b[0;34m(name, mode, exist_ok)\u001b[0m\n",
            "\u001b[0;31mOSError\u001b[0m: [Errno 28] No space left on device: '/Users/amoakoheskey/Library/Caches/seaborn'"
          ]
        }
      ],
      "source": [
        "# Import the necessary libraries\n",
        "import pandas as pd\n",
        "import numpy as np\n",
        "import seaborn as sns\n",
        "\n",
        "# Load the Titanic Dataset\n",
        "titanic_df = sns.load_dataset('titanic')\n",
        "\n",
        "# Ensure that 'age' and 'fare' columns do not have null values\n",
        "titanic_df = titanic_df.dropna(subset=['age', 'fare'])\n",
        "\n",
        "# Compute Z-scores for 'age' and 'fare' using sample standard deviation (ddof=1)\n",
        "mean_age = np.mean(titanic_df['age'])\n",
        "std_dev_age = np.std(titanic_df['age'], ddof=1)\n",
        "Z_scores_age = (titanic_df['age'] - mean_age) / std_dev_age\n",
        "outliers_age = titanic_df['age'][np.abs(Z_scores_age) > 2.5]\n",
        "\n",
        "# TODO: Calculate the mean and sample standard deviation for the 'fare' column, then compute the Z-scores.\n",
        "mean_fare = np.mean(titanic_df['fare'])\n",
        "std_dev_fare = np.std(titanic_df['fare'], ddof=1)\n",
        "Z_scores_fare = (titanic_df['fare'] - mean_fare) / std_dev_fare\n",
        "outliers_fare = titanic_df['fare'][np.abs(Z_scores_fare) > 2.5]\n",
        "\n",
        "# Print the outliers\n",
        "print(\"Outliers in 'Age' using Z-score: \\n\", outliers_age)\n",
        "# TODO: Print the outliers for 'fare' using Z-scores.\n",
        "print(\"Outliers in 'Fare' using Z-score: \\n\", outliers_fare)"
      ]
    },
    {
      "cell_type": "markdown",
      "metadata": {
        "id": "In9ReCuOB1Pk"
      },
      "source": [
        "# **Outliers in age using inter quatile range implementation**"
      ]
    },
    {
      "cell_type": "code",
      "execution_count": null,
      "metadata": {
        "colab": {
          "base_uri": "https://localhost:8080/"
        },
        "id": "8XIyJlqaCC7w",
        "outputId": "b8ffbb5b-918c-4e66-f387-0345db76d7bf"
      },
      "outputs": [],
      "source": [
        "# Import the necessary libraries\n",
        "import numpy as np\n",
        "import seaborn as sns\n",
        "\n",
        "# TODO: Load the Titanic dataset and store it in a variable named 'titanic_df'\n",
        "data = sns.load_dataset('titanic')\n",
        "# TODO: Drop any rows with missing values in the 'age' column\n",
        "ageNA = data['age'].dropna().isnull().sum()\n",
        "# TODO: Calculate the first and third quartile of the 'age' column and store them in variables 'Q1_age' and 'Q3_age'\n",
        "Q1_age = data['age'].quantile(0.25)\n",
        "Q3_age = data['age'].quantile(0.75)\n",
        "# TODO: Calculate the Interquartile Range (IQR) for the 'age' column and store it in a variable 'IQR_age'\n",
        "IQR_age = Q3_age - Q1_age\n",
        "# TODO: Using IQR, identify any age values that are outliers and store them in a variable called 'outliers_age'\n",
        "outliers_age = data['age'][(data['age']<(Q1_age-1.5 * IQR_age))| (data['age']>(Q3_age + 1.5 * IQR_age))]\n",
        "# TODO: Output the outliers found in the 'age' column\n",
        "print(outliers_age)"
      ]
    },
    {
      "cell_type": "code",
      "execution_count": null,
      "metadata": {
        "colab": {
          "base_uri": "https://localhost:8080/"
        },
        "id": "kR0zHVB8EtUR",
        "outputId": "608231f7-ec44-479b-e560-1d510b0db0dd"
      },
      "outputs": [],
      "source": [
        "# Import the necessary libraries\n",
        "import numpy as np\n",
        "import seaborn as sns\n",
        "\n",
        "# Load the Titanic Dataset\n",
        "titanic_df = sns.load_dataset('titanic')\n",
        "\n",
        "# TODO: Ensure that 'age' column does not have null values\n",
        "titanic_df.dropna(subset=['age'],inplace = True)\n",
        "# TODO: Compute IQR for 'age' by finding the first and third quartile and their difference\n",
        "Q1 = titanic_df['age'].quantile(0.25)\n",
        "Q3 = titanic_df['age'].quantile(0.75)\n",
        "IQR = Q3 - Q1\n",
        "# TODO: Using the computed IQR, identify and assign the outliers in 'age' to the variable outliers_age\n",
        "outliers_age = titanic_df['age'][(titanic_df['age']<(Q1 - 1.5 * IQR)) | (titanic_df['age']>(Q3+1.5*IQR))]\n",
        "# Print the outliers\n",
        "print(\"Outliers in 'Age' using IQR: \\n\", outliers_age)"
      ]
    },
    {
      "cell_type": "code",
      "execution_count": null,
      "metadata": {
        "colab": {
          "base_uri": "https://localhost:8080/"
        },
        "id": "kEg4yQgrHbeX",
        "outputId": "26ddafaf-0306-4206-c298-326b7747b470"
      },
      "outputs": [],
      "source": [
        "# Import necessary libraries\n",
        "import seaborn as sns\n",
        "import pandas as pd\n",
        "from sklearn.preprocessing import StandardScaler\n",
        "\n",
        "# Load the Titanic Dataset\n",
        "titanic_df = sns.load_dataset('titanic')\n",
        "\n",
        "# Create a StandardScaler object\n",
        "scaler = StandardScaler()\n",
        "\n",
        "# Incorrectly using fit_transform on the 'fare' column with NaN values included\n",
        "# titanic_df['stand_fare'] = scaler.fit_transform(titanic_df[['fare']])\n",
        "scaler.fit(titanic_df[['fare']].dropna())\n",
        "titanic_df['stand_fare']=scaler.transform(titanic_df[['fare']])\n",
        "\n",
        "# Display standardized fare values\n",
        "print(titanic_df[['fare', 'stand_fare']])"
      ]
    },
    {
      "cell_type": "code",
      "execution_count": null,
      "metadata": {},
      "outputs": [],
      "source": [
        "# Import necessary libraries\n",
        "import seaborn as sns\n",
        "import pandas as pd\n",
        "from sklearn.preprocessing import MinMaxScaler, StandardScaler\n",
        "\n",
        "# Load the Titanic Dataset\n",
        "titanic_df = sns.load_dataset('titanic')\n",
        "\n",
        "# Create a MinMaxScaler object with a feature range of 0 to 100\n",
        "age_scaler = MinMaxScaler(feature_range=(0, 100))\n",
        "# TODO: Create a StandardScaler object for standardizing 'fare'\n",
        "fare_scaler = StandardScaler()\n",
        "\n",
        "# Fit the age scaler on the age data without NaN values\n",
        "age_scaler.fit(titanic_df[['age']].dropna())\n",
        "# TODO: Fit the scaler on the 'fare' data without NaN values\n",
        "fare_scaler.fit(titanic_df[['fare']].dropna())\n",
        "\n",
        "# Holds the indexes for the rows with non-NaN age and fare values\n",
        "non_na_age_index = titanic_df['age'].dropna().index\n",
        "# TODO: Replace the following line with a calculation of the non-NaN fare index values\n",
        "non_na_fare_index = titanic_df['fare'].dropna().index\n",
        "\n",
        "# Transform the 'age' and 'fare' columns in the original dataframe without NaN values\n",
        "titanic_df.loc[non_na_age_index, 'norm_age'] = age_scaler.transform(titanic_df.loc[non_na_age_index, ['age']])\n",
        "# TODO: Transform the 'fare' column using the StandardScaler and non-NaN indices\n",
        "titanic_df.loc[non_na_fare_index,'norm_fare'] = fare_scaler.transform(titanic_df.loc[non_na_fare_index,['fare']])\n",
        "\n",
        "# Display transformed 'age' and standardized 'fare' values\n",
        "# TODO: Update this line to include the newly standardized 'fare' column\n",
        "print(titanic_df[['age', 'norm_age', 'fare','norm_fare']])"
      ]
    },
    {
      "cell_type": "code",
      "execution_count": null,
      "metadata": {},
      "outputs": [],
      "source": []
    }
  ],
  "metadata": {
    "colab": {
      "authorship_tag": "ABX9TyMy5uSnj/ZlBPZNWiA63OUz",
      "include_colab_link": true,
      "provenance": []
    },
    "kernelspec": {
      "display_name": "base",
      "language": "python",
      "name": "python3"
    },
    "language_info": {
      "codemirror_mode": {
        "name": "ipython",
        "version": 3
      },
      "file_extension": ".py",
      "mimetype": "text/x-python",
      "name": "python",
      "nbconvert_exporter": "python",
      "pygments_lexer": "ipython3",
      "version": "3.11.7"
    }
  },
  "nbformat": 4,
  "nbformat_minor": 0
}
